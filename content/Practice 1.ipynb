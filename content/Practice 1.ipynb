{
  "metadata": {
    "kernelspec": {
      "name": "python",
      "display_name": "Python (Pyodide)",
      "language": "python"
    },
    "language_info": {
      "codemirror_mode": {
        "name": "python",
        "version": 3
      },
      "file_extension": ".py",
      "mimetype": "text/x-python",
      "name": "python",
      "nbconvert_exporter": "python",
      "pygments_lexer": "ipython3",
      "version": "3.8"
    }
  },
  "nbformat_minor": 5,
  "nbformat": 4,
  "cells": [
    {
      "id": "9a155e89-60e1-4c78-856e-1ea11ac9bbd3",
      "cell_type": "code",
      "source": "print(\"Hello World\")",
      "metadata": {
        "trusted": true
      },
      "outputs": [
        {
          "name": "stdout",
          "output_type": "stream",
          "text": "Hello World\n"
        }
      ],
      "execution_count": 13
    },
    {
      "id": "00e81e0c-cbbd-441e-ad04-506cb36ca3f9",
      "cell_type": "code",
      "source": "print(12)",
      "metadata": {
        "trusted": true
      },
      "outputs": [
        {
          "name": "stdout",
          "output_type": "stream",
          "text": "12\n"
        }
      ],
      "execution_count": 14
    },
    {
      "id": "306b0638-6401-4dd5-ad48-c50eda31bdcb",
      "cell_type": "code",
      "source": "print(3.14)",
      "metadata": {
        "trusted": true
      },
      "outputs": [
        {
          "name": "stdout",
          "output_type": "stream",
          "text": "3.14\n"
        }
      ],
      "execution_count": 15
    },
    {
      "id": "fc822ea9-2e3e-48b5-af6f-072b290b2989",
      "cell_type": "code",
      "source": "favorite_movie = \"Avengers\"\nfavorite_number = 22\n\nprint(favorite_movie)\nprint(favorite_number)",
      "metadata": {
        "trusted": true
      },
      "outputs": [
        {
          "name": "stdout",
          "output_type": "stream",
          "text": "Avengers\n22\n"
        }
      ],
      "execution_count": 11
    },
    {
      "id": "ab6dbd0e-b819-409b-a146-2ab3ad89c974",
      "cell_type": "code",
      "source": "num_1 = 30\nnum_2 = 40\n\nresult = num_1 + num_2\n\nprint(result)",
      "metadata": {
        "trusted": true
      },
      "outputs": [
        {
          "name": "stdout",
          "output_type": "stream",
          "text": "70\n"
        }
      ],
      "execution_count": 12
    },
    {
      "id": "723b01e7-e8f7-4532-af75-0f6f78824825",
      "cell_type": "code",
      "source": "num_1 = 20\n\nif num_1 < 40:\n    print(\"Number is less than 40\")\nif num_1 < 30:\n    print(\"Number is less than 30\")",
      "metadata": {
        "trusted": true
      },
      "outputs": [],
      "execution_count": null
    },
    {
      "id": "bff9a3da-286a-4f23-8d93-641ef4415dba",
      "cell_type": "code",
      "source": "num_1 = 30\nnum_2 = 50\nname = \"Madhav\"\n\nprint(\"The number of variables are:\")\nprint()",
      "metadata": {
        "trusted": true
      },
      "outputs": [],
      "execution_count": null
    },
    {
      "id": "aae87168-9c59-43af-82fc-7ef8757dd089",
      "cell_type": "code",
      "source": "",
      "metadata": {
        "trusted": true
      },
      "outputs": [],
      "execution_count": null
    }
  ]
}