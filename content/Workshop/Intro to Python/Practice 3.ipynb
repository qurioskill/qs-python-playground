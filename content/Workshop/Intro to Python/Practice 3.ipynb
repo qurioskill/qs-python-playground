{
  "metadata": {
    "kernelspec": {
      "name": "python",
      "display_name": "Python (Pyodide)",
      "language": "python"
    },
    "language_info": {
      "codemirror_mode": {
        "name": "python",
        "version": 3
      },
      "file_extension": ".py",
      "mimetype": "text/x-python",
      "name": "python",
      "nbconvert_exporter": "python",
      "pygments_lexer": "ipython3",
      "version": "3.8"
    }
  },
  "nbformat_minor": 5,
  "nbformat": 4,
  "cells": [
    {
      "id": "616feafe-88d1-4163-8280-e60222680f0b",
      "cell_type": "code",
      "source": "name = input(\"Enter your name \")\nprint(name)",
      "metadata": {
        "trusted": true
      },
      "outputs": [
        {
          "output_type": "stream",
          "name": "stdin",
          "text": "Enter your name  Madhav\n"
        },
        {
          "name": "stdout",
          "output_type": "stream",
          "text": "Madhav\n"
        }
      ],
      "execution_count": 1
    },
    {
      "id": "646dbdcf-473f-4767-b103-29894caa2f3d",
      "cell_type": "code",
      "source": "num_1 = int(input(\"Enter first number\"))\nnum_2 = int(input(\"Enter second number\"))\n\nresult = num_1 + num_2\n\nprint(result)",
      "metadata": {
        "trusted": true
      },
      "outputs": [],
      "execution_count": null
    },
    {
      "id": "dea34a84-0457-4746-9daa-80b8e7c4d0ca",
      "cell_type": "code",
      "source": "\"\"\"\nTask: Take three inputs from user. Store them in variables num_1, num_2, num_3. print their sum but adding them as num_1 + num_2 + num_3\n\"\"\"",
      "metadata": {
        "trusted": true
      },
      "outputs": [],
      "execution_count": null
    },
    {
      "id": "cd726a04-27b9-42bf-adc5-3ee17ca2f1cf",
      "cell_type": "code",
      "source": "\"\"\"\nTask: Create a grocery list program. From the user, take input of a vegetable, a fruit and a juice name they want to eat. Print the the grocery list.\n\"\"\"",
      "metadata": {
        "trusted": true
      },
      "outputs": [],
      "execution_count": null
    },
    {
      "id": "9759215f-7aae-4bbf-ae90-687f7e42f39b",
      "cell_type": "code",
      "source": "\"\"\"\nTask: Rewrite the above task. Now also take the price for the vegetable, fruit and juice. Print the names and their prices.\n\"\"\"",
      "metadata": {
        "trusted": true
      },
      "outputs": [],
      "execution_count": null
    }
  ]
}