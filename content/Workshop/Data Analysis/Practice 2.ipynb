{
  "metadata": {
    "kernelspec": {
      "name": "python",
      "display_name": "Python (Pyodide)",
      "language": "python"
    },
    "language_info": {
      "codemirror_mode": {
        "name": "python",
        "version": 3
      },
      "file_extension": ".py",
      "mimetype": "text/x-python",
      "name": "python",
      "nbconvert_exporter": "python",
      "pygments_lexer": "ipython3",
      "version": "3.8"
    }
  },
  "nbformat_minor": 5,
  "nbformat": 4,
  "cells": [
    {
      "id": "3787d5a6-c559-4300-ac4d-0e142d5ba26a",
      "cell_type": "code",
      "source": "print(\"Madhav\"",
      "metadata": {
        "trusted": true
      },
      "outputs": [],
      "execution_count": null
    },
    {
      "id": "f01a4b57-cbff-4f32-bff2-406280f671ca",
      "cell_type": "code",
      "source": "name = \"AAaa",
      "metadata": {
        "trusted": true
      },
      "outputs": [],
      "execution_count": null
    },
    {
      "id": "7c579958-f1d4-4872-9539-aed7eecd7957",
      "cell_type": "code",
      "source": "num = 10\n\nif num<200\n    print(num)",
      "metadata": {
        "trusted": true
      },
      "outputs": [],
      "execution_count": null
    },
    {
      "id": "2e6d2bff-0191-4691-adb3-8e0753caef80",
      "cell_type": "code",
      "source": "name = input(\"Enter your name\")\nprint(name1)",
      "metadata": {
        "trusted": true
      },
      "outputs": [],
      "execution_count": null
    }
  ]
}