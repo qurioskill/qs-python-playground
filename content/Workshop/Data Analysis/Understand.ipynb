{
  "metadata": {
    "kernelspec": {
      "name": "python",
      "display_name": "Python (Pyodide)",
      "language": "python"
    },
    "language_info": {
      "codemirror_mode": {
        "name": "python",
        "version": 3
      },
      "file_extension": ".py",
      "mimetype": "text/x-python",
      "name": "python",
      "nbconvert_exporter": "python",
      "pygments_lexer": "ipython3",
      "version": "3.8"
    }
  },
  "nbformat_minor": 5,
  "nbformat": 4,
  "cells": [
    {
      "id": "13922bf0-73de-44b3-8391-f11c84f49a1c",
      "cell_type": "code",
      "source": "import pandas as pd\n\ndef get_csv_data(file_name):\n    print(f\"Trying to read the file {file_name}\")\n    return pd.read_csv(f\"../../data/{file_name}\")",
      "metadata": {
        "trusted": true
      },
      "outputs": [],
      "execution_count": 1
    },
    {
      "id": "3d7226fb-798c-4c4b-8f05-db242b7f0b23",
      "cell_type": "code",
      "source": "data = get_csv_data(\"Downloads/sales_data_sample.csv\")",
      "metadata": {
        "trusted": true
      },
      "outputs": [],
      "execution_count": null
    },
    {
      "id": "fff8d7ca-e6ca-4e94-ba39-d487d9727609",
      "cell_type": "code",
      "source": "# What are the columns in the data?\ndata.columns",
      "metadata": {
        "trusted": true
      },
      "outputs": [],
      "execution_count": null
    },
    {
      "id": "d6b8d965-0cbd-454c-90d6-cee81f6f6422",
      "cell_type": "code",
      "source": "# What are the rows and columns of the data\ndata.shape",
      "metadata": {
        "trusted": true
      },
      "outputs": [],
      "execution_count": null
    },
    {
      "id": "fb3b264f-3b6a-48bb-aad5-86d286c94d91",
      "cell_type": "code",
      "source": "# What are the top 3 values of the data?\ndata.head(3)",
      "metadata": {
        "trusted": true
      },
      "outputs": [],
      "execution_count": null
    },
    {
      "id": "881cf5a5-4382-4f1a-80f4-6eb6ac65c5ff",
      "cell_type": "code",
      "source": "# What are the statistical averages of the data values (Where relevant)\ndata.describe()",
      "metadata": {
        "trusted": true
      },
      "outputs": [],
      "execution_count": null
    },
    {
      "id": "7cea3aa1-420f-4e7d-893a-51a11d9368c4",
      "cell_type": "code",
      "source": "# What is the data in the COUNTRY and QUANTITYORDERED columns\ndata[['COUNTRY', 'QUANTITYORDERED']]",
      "metadata": {
        "trusted": true
      },
      "outputs": [],
      "execution_count": null
    },
    {
      "id": "756f0edb-f00b-4467-9aea-e933d32eb4fb",
      "cell_type": "code",
      "source": "# Task: Read the data file: superstore_sales_data.csv. Find out the number of columns, the top 3 values and statistical description of the dataset",
      "metadata": {
        "trusted": true
      },
      "outputs": [],
      "execution_count": null
    }
  ]
}