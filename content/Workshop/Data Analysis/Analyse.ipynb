{
  "metadata": {
    "kernelspec": {
      "name": "python",
      "display_name": "Python (Pyodide)",
      "language": "python"
    },
    "language_info": {
      "codemirror_mode": {
        "name": "python",
        "version": 3
      },
      "file_extension": ".py",
      "mimetype": "text/x-python",
      "name": "python",
      "nbconvert_exporter": "python",
      "pygments_lexer": "ipython3",
      "version": "3.8"
    }
  },
  "nbformat_minor": 5,
  "nbformat": 4,
  "cells": [
    {
      "id": "39fa6d95-45f4-475c-9b18-f537a0841c65",
      "cell_type": "code",
      "source": "import pandas as pd\n\ndef get_csv_data(file_name):\n    print(f\"Trying to read the file {file_name}\")\n    data = pd.read_csv(f\"../../data/{file_name}\")\n    print(\"Data Read Successfully\")\n    return data",
      "metadata": {
        "trusted": true
      },
      "outputs": [],
      "execution_count": null
    },
    {
      "id": "042b5d5f-0ae4-47ea-b8c8-14e48817357e",
      "cell_type": "code",
      "source": "data = get_csv_data(\"sales_data_sample.csv\")",
      "metadata": {
        "trusted": true
      },
      "outputs": [],
      "execution_count": null
    },
    {
      "id": "d9875c42-7811-446d-b01e-ab91c0256c74",
      "cell_type": "code",
      "source": "# Filter the data by columnn where price is less than 100\n\nfiltered_data = data.query(\"PRICEEACH < 100\")\nfiltered_data.head(3)",
      "metadata": {
        "trusted": true
      },
      "outputs": [],
      "execution_count": null
    },
    {
      "id": "f0d221d7-32db-423e-a2c7-cff02bdb9d7f",
      "cell_type": "code",
      "source": "# Filter by rows where quantity ordered is more than 50. Show the top 3 values\nfiltered_data = data.query(\"QUANTITYORDERED > 50\")\nfiltered_data.head(3)",
      "metadata": {
        "trusted": true
      },
      "outputs": [],
      "execution_count": null
    },
    {
      "id": "0eeee643-e6c3-4b32-87be-328a4325e81b",
      "cell_type": "code",
      "source": "# Filter by rows where country is France\nfiltered_data = data.query(\"COUNTRY == 'France'\")\nfiltered_data.head(3)",
      "metadata": {
        "trusted": true
      },
      "outputs": [],
      "execution_count": null
    },
    {
      "id": "4a2ca111-fa4d-4ed7-8dac-eee4660b63bf",
      "cell_type": "code",
      "source": "# Total quantity ordered by France\nfiltered_data = data.query(\"COUNTRY == 'France'\")\ntotal_quantity = filtered_data['QUANTITYORDERED'].sum()\n\nprint(total_quantity)",
      "metadata": {
        "trusted": true
      },
      "outputs": [],
      "execution_count": null
    },
    {
      "id": "193823d3-9ed7-4504-9437-79414358d452",
      "cell_type": "code",
      "source": "# Group the data by country and add the total quantities ordered\ngrouped_data = data.groupby(\"COUNTRY\")\naggregated_data = grouped_data.agg(QUANTITYORDERED=(\"QUANTITYORDERED\", \"sum\"))    \n\nprint(aggregated_data)",
      "metadata": {
        "trusted": true
      },
      "outputs": [],
      "execution_count": null
    },
    {
      "id": "747c1cb4-53b4-489b-9922-cabec5f83c91",
      "cell_type": "code",
      "source": "# Task:\n# Filter the data when country is USA and print the top three values.\n# (Advanced) Group by quantity and print aggregate sum of SALES column",
      "metadata": {
        "trusted": true
      },
      "outputs": [],
      "execution_count": null
    }
  ]
}