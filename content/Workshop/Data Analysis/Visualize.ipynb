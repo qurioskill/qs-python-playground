{
  "metadata": {
    "kernelspec": {
      "name": "python",
      "display_name": "Python (Pyodide)",
      "language": "python"
    },
    "language_info": {
      "codemirror_mode": {
        "name": "python",
        "version": 3
      },
      "file_extension": ".py",
      "mimetype": "text/x-python",
      "name": "python",
      "nbconvert_exporter": "python",
      "pygments_lexer": "ipython3",
      "version": "3.8"
    }
  },
  "nbformat_minor": 5,
  "nbformat": 4,
  "cells": [
    {
      "id": "dc100121-1577-46ce-a9a2-1c3f7a99b9a6",
      "cell_type": "code",
      "source": "import pandas as pd\nimport matplotlib as plt\ndef get_csv_data(file_name):\n    return pd.read_csv(f\"../../data/{file_name}\")",
      "metadata": {
        "trusted": true
      },
      "outputs": [],
      "execution_count": null
    },
    {
      "id": "a6bc8e80-e243-4d21-a165-785a05562dfc",
      "cell_type": "code",
      "source": "data = get_csv_data(\"sales_data_sample.csv\")",
      "metadata": {
        "trusted": true
      },
      "outputs": [],
      "execution_count": null
    },
    {
      "id": "3d18ed6f-cdf4-423b-b445-c8176292d511",
      "cell_type": "code",
      "source": "# Group data by product line and print sales\ndata.groupby('PRODUCTLINE')['SALES'].sum()",
      "metadata": {
        "trusted": true
      },
      "outputs": [],
      "execution_count": null
    },
    {
      "id": "40f887fa-1907-4752-aad8-49cb490c74ed",
      "cell_type": "code",
      "source": "# Create a bar graph\ndata.groupby('PRODUCTLINE')['SALES'].sum().plot(kind='barh', title='Total Sales by Product Line', figsize=(8, 5))",
      "metadata": {
        "trusted": true
      },
      "outputs": [],
      "execution_count": null
    },
    {
      "id": "deec7b34-c193-452a-ae05-095890da2f76",
      "cell_type": "code",
      "source": "# Group by country total sales pie chart for top 6 countries\ndata.groupby('COUNTRY')['SALES'].sum().sort_values(ascending=False).head(6).plot(kind='pie', y='SALES', autopct='%1.1f%%', title='Sales by Country (Top 6)', figsize=(6, 6))",
      "metadata": {
        "trusted": true
      },
      "outputs": [],
      "execution_count": null
    },
    {
      "id": "60e7b051-c863-409f-91cf-ecb5eb9d90c4",
      "cell_type": "code",
      "source": "# Task: Read the data file: superstore_sales_data.csv.\n# Print the bar chart grouped by total sales per category",
      "metadata": {
        "trusted": true
      },
      "outputs": [],
      "execution_count": null
    }
  ]
}